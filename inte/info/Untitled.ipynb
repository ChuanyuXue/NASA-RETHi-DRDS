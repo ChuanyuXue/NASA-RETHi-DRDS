{
 "cells": [
  {
   "cell_type": "code",
   "execution_count": 32,
   "id": "aaa3f31b",
   "metadata": {},
   "outputs": [],
   "source": [
    "import pandas as pd\n",
    "import numpy as np\n",
    "import json"
   ]
  },
  {
   "cell_type": "code",
   "execution_count": 33,
   "id": "95bf8d83",
   "metadata": {},
   "outputs": [],
   "source": [
    "def generate_info(dataid, name, type, subtype, subtype2, rate, size, uint,\n",
    "                  notes):\n",
    "    data = {\n",
    "        name: {\n",
    "            \"data_id\": dataid,\n",
    "            \"data_name\": name,\n",
    "            \"data_type\": type,\n",
    "            \"data_subtype1\": subtype,\n",
    "            \"data_subtype2\": subtype2,\n",
    "            \"data_rate\": rate,\n",
    "            \"data_size\": size,\n",
    "            \"data_unit\": uint,\n",
    "            \"data_notes\": notes\n",
    "        }\n",
    "    }\n",
    "    return data\n"
   ]
  },
  {
   "cell_type": "code",
   "execution_count": 34,
   "id": "f4d5a04b",
   "metadata": {},
   "outputs": [],
   "source": [
    "data = pd.read_csv(\"Failures Modes in MCVT v6 - Communication-Data-Service-8.csv\")"
   ]
  },
  {
   "cell_type": "code",
   "execution_count": 35,
   "id": "58ef23a6",
   "metadata": {},
   "outputs": [],
   "source": [
    "# data = pd.read_csv(\"Failures Modes in MCVT v6 - Failure Modes of MCVT.csv\")\n",
    "\n",
    "# data['shape'] = data.groupby('Component ID').transform('count')['System']\n",
    "\n",
    "# data['Component Fault'] = data['Component Fault'].astype(str)\n",
    "\n",
    "# data['fault'] = data.groupby('Component ID').transform(lambda x: ','.join(x))['Component Fault']"
   ]
  },
  {
   "cell_type": "code",
   "execution_count": 36,
   "id": "d72dc094",
   "metadata": {},
   "outputs": [],
   "source": [
    "# const (\n",
    "# \tSRC_GCC   uint8 = 0\n",
    "# \tSRC_HMS   uint8 = 1\n",
    "# \tSRC_STR   uint8 = 2\n",
    "# \tSRC_SPL   uint8 = 11\n",
    "# \tSRC_ECLSS uint8 = 5\n",
    "# \tSRC_PWR   uint8 = 3\n",
    "# \tSRC_AGT   uint8 = 6\n",
    "# \tSRC_ING   uint8 = 8\n",
    "# \tSRC_DTB   uint8 = 9\n",
    "# \tSRC_EXT   uint8 = 7\n",
    "# )"
   ]
  },
  {
   "cell_type": "code",
   "execution_count": 37,
   "id": "500fb4e2",
   "metadata": {},
   "outputs": [],
   "source": [
    "trans = {\n",
    "    'ECLSS': 5,\n",
    "    'Interior Environment': 8,\n",
    "    'Power': 3,\n",
    "    'SPL': 11,\n",
    "    'Structure': 2,\n",
    "    'C2/Agents': 6,\n",
    "    'Communication Network': 10\n",
    "}"
   ]
  },
  {
   "cell_type": "code",
   "execution_count": 38,
   "id": "ee287872",
   "metadata": {},
   "outputs": [],
   "source": [
    "type_trans = {\n",
    "    'MEAS': 1,\n",
    "    'FDDMEAS':2,\n",
    "    'CONTROL':3,\n",
    "    \n",
    "}"
   ]
  },
  {
   "cell_type": "code",
   "execution_count": 39,
   "id": "bc7d05e4",
   "metadata": {},
   "outputs": [],
   "source": [
    "rate_trans = {\n",
    "    3: 1000,\n",
    "    2: 4000,\n",
    "    8: 200,\n",
    "    3: 1000,\n",
    "    5: 200,\n",
    "    10:1,\n",
    "    11:1000,\n",
    "    6:1,\n",
    "}"
   ]
  },
  {
   "cell_type": "code",
   "execution_count": 40,
   "id": "47a2bf43",
   "metadata": {},
   "outputs": [
    {
     "name": "stdout",
     "output_type": "stream",
     "text": [
      "cannot convert float NaN to integer\n",
      "cannot convert float NaN to integer\n",
      "cannot convert float NaN to integer\n",
      "cannot convert float NaN to integer\n",
      "cannot convert float NaN to integer\n",
      "cannot convert float NaN to integer\n",
      "cannot convert float NaN to integer\n",
      "cannot convert float NaN to integer\n",
      "cannot convert float NaN to integer\n",
      "cannot convert float NaN to integer\n",
      "cannot convert float NaN to integer\n",
      "cannot convert float NaN to integer\n",
      "cannot convert float NaN to integer\n",
      "cannot convert float NaN to integer\n",
      "cannot convert float NaN to integer\n",
      "cannot convert float NaN to integer\n",
      "cannot convert float NaN to integer\n",
      "cannot convert float NaN to integer\n",
      "cannot convert float NaN to integer\n",
      "cannot convert float NaN to integer\n",
      "cannot convert float NaN to integer\n",
      "cannot convert float NaN to integer\n",
      "cannot convert float NaN to integer\n",
      "cannot convert float NaN to integer\n",
      "cannot convert float NaN to integer\n",
      "cannot convert float NaN to integer\n",
      "cannot convert float NaN to integer\n",
      "cannot convert float NaN to integer\n",
      "cannot convert float NaN to integer\n",
      "cannot convert float NaN to integer\n",
      "cannot convert float NaN to integer\n",
      "cannot convert float NaN to integer\n",
      "cannot convert float NaN to integer\n",
      "cannot convert float NaN to integer\n",
      "cannot convert float NaN to integer\n",
      "cannot convert float NaN to integer\n",
      "cannot convert float NaN to integer\n",
      "cannot convert float NaN to integer\n",
      "cannot convert float NaN to integer\n",
      "cannot convert float NaN to integer\n",
      "cannot convert float NaN to integer\n",
      "cannot convert float NaN to integer\n",
      "cannot convert float NaN to integer\n",
      "cannot convert float NaN to integer\n",
      "cannot convert float NaN to integer\n",
      "cannot convert float NaN to integer\n",
      "cannot convert float NaN to integer\n",
      "cannot convert float NaN to integer\n"
     ]
    }
   ],
   "source": [
    "result = {}\n",
    "count = 0\n",
    "for _, row in data.iterrows():\n",
    "    count += 1\n",
    "    try:\n",
    "        dataid = int(row['Data ID'])\n",
    "        name = str(row['System/Sub-system/Component']) + '-' + str(dataid)\n",
    "\n",
    "        dtype = int(type_trans[row['Type']])\n",
    "        subtype = int(trans[row['System']])\n",
    "        subtype2 = int(row['ComponentID']) if not pd.isna(row['ComponentID']) else int(0)\n",
    "        rate = rate_trans[subtype]\n",
    "        size = int(row['Signal Size']) if not pd.isna(row['Signal Size']) else int(1)\n",
    "        unit = 'n/a'\n",
    "        notes = row['Failure Mode'] if isinstance(row['Failure Mode'], str) else 'N/A'\n",
    "        result.update(generate_info(dataid, name, dtype, subtype, subtype2, rate, size, unit, notes))\n",
    "    except Exception as err:\n",
    "        print(err)"
   ]
  },
  {
   "cell_type": "code",
   "execution_count": 41,
   "id": "7519ce28",
   "metadata": {},
   "outputs": [],
   "source": [
    "# result = {}\n",
    "# count = 0\n",
    "\n",
    "# for _, row in data.iterrows():\n",
    "#     count += 1\n",
    "#     dataid = row['Component ID']\n",
    "#     name = row['System/Sub-system/Component']\n",
    "#     dtype = 4 if \"Sensor\" in row['fault'] else 3\n",
    "#     subtype = trans[row['System']]\n",
    "#     subtype2 = 255\n",
    "#     rate = 1\n",
    "#     size = row['shape']\n",
    "#     unit = 'n/a'\n",
    "#     notes = row['fault']\n",
    "#     result.update(generate_info(dataid, name, dtype, subtype, subtype2, rate, size, unit, notes))\n",
    "\n",
    "\n",
    "#     if row['Activity Type'] == 3:\n",
    "#         dataid = _sensor_id(row['Component ID'])\n",
    "#         name = row['System/Sub-system/Component'] + \"_Measure\"\n",
    "#         dtype = 1 \n",
    "#         subtype = trans[row['System']]\n",
    "#         subtype2 = 255\n",
    "#         rate = 1\n",
    "#         size = 1\n",
    "#         unit = 'n/a'\n",
    "#         notes = row['Component']b\n",
    "#         result.update(generate_info(dataid, name, dtype, subtype, subtype2, rate, size, unit, notes))"
   ]
  },
  {
   "cell_type": "code",
   "execution_count": 31,
   "id": "25317f20",
   "metadata": {},
   "outputs": [],
   "source": [
    "json_string = json.dumps(result)\n",
    "with open('db_info_v6.json', 'w') as outfile:\n",
    "    outfile.write(json_string)"
   ]
  },
  {
   "cell_type": "code",
   "execution_count": null,
   "id": "4c952811",
   "metadata": {},
   "outputs": [],
   "source": []
  },
  {
   "cell_type": "code",
   "execution_count": null,
   "id": "da9ed10b",
   "metadata": {},
   "outputs": [],
   "source": []
  }
 ],
 "metadata": {
  "kernelspec": {
   "display_name": "Python 3.9.7 ('base')",
   "language": "python",
   "name": "python3"
  },
  "language_info": {
   "codemirror_mode": {
    "name": "ipython",
    "version": 3
   },
   "file_extension": ".py",
   "mimetype": "text/x-python",
   "name": "python",
   "nbconvert_exporter": "python",
   "pygments_lexer": "ipython3",
   "version": "3.9.7"
  },
  "vscode": {
   "interpreter": {
    "hash": "c6e4e9f98eb68ad3b7c296f83d20e6de614cb42e90992a65aa266555a3137d0d"
   }
  }
 },
 "nbformat": 4,
 "nbformat_minor": 5
}
