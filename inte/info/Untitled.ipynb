{
 "cells": [
  {
   "cell_type": "code",
   "execution_count": 1,
   "id": "aaa3f31b",
   "metadata": {},
   "outputs": [],
   "source": [
    "import pandas as pd\n",
    "import numpy as np\n",
    "import json"
   ]
  },
  {
   "cell_type": "code",
   "execution_count": 2,
   "id": "95bf8d83",
   "metadata": {},
   "outputs": [],
   "source": [
    "\n",
    "def generate_info(dataid, name, type, subtype, subtype2, rate, size, uint,\n",
    "                  notes):\n",
    "    data = {\n",
    "        name: {\n",
    "            \"data_id\": dataid,\n",
    "            \"data_name\": name,\n",
    "            \"data_type\": type,\n",
    "            \"data_subtype1\": subtype,\n",
    "            \"data_subtype2\": subtype2,\n",
    "            \"data_rate\": rate,\n",
    "            \"data_size\": size,\n",
    "            \"data_unit\": uint,\n",
    "            \"data_notes\": notes\n",
    "        }\n",
    "    }\n",
    "    return data\n"
   ]
  },
  {
   "cell_type": "code",
   "execution_count": 3,
   "id": "58ef23a6",
   "metadata": {},
   "outputs": [
    {
     "name": "stderr",
     "output_type": "stream",
     "text": [
      "/var/folders/jg/vffvcnyd6_bfssm4fcwph6b00000gn/T/ipykernel_65373/3036708812.py:7: FutureWarning: Dropping invalid columns in DataFrameGroupBy.transform is deprecated. In a future version, a TypeError will be raised. Before calling .transform, select only columns which should be valid for the function.\n",
      "  data['fault'] = data.groupby('Component ID').transform(lambda x: ','.join(x))['Component Fault']\n",
      "/var/folders/jg/vffvcnyd6_bfssm4fcwph6b00000gn/T/ipykernel_65373/3036708812.py:7: FutureWarning: Dropping invalid columns in DataFrameGroupBy.transform is deprecated. In a future version, a TypeError will be raised. Before calling .transform, select only columns which should be valid for the function.\n",
      "  data['fault'] = data.groupby('Component ID').transform(lambda x: ','.join(x))['Component Fault']\n",
      "/var/folders/jg/vffvcnyd6_bfssm4fcwph6b00000gn/T/ipykernel_65373/3036708812.py:7: FutureWarning: Dropping invalid columns in DataFrameGroupBy.transform is deprecated. In a future version, a TypeError will be raised. Before calling .transform, select only columns which should be valid for the function.\n",
      "  data['fault'] = data.groupby('Component ID').transform(lambda x: ','.join(x))['Component Fault']\n",
      "/var/folders/jg/vffvcnyd6_bfssm4fcwph6b00000gn/T/ipykernel_65373/3036708812.py:7: FutureWarning: Dropping invalid columns in DataFrameGroupBy.transform is deprecated. In a future version, a TypeError will be raised. Before calling .transform, select only columns which should be valid for the function.\n",
      "  data['fault'] = data.groupby('Component ID').transform(lambda x: ','.join(x))['Component Fault']\n",
      "/var/folders/jg/vffvcnyd6_bfssm4fcwph6b00000gn/T/ipykernel_65373/3036708812.py:7: FutureWarning: Dropping invalid columns in DataFrameGroupBy.transform is deprecated. In a future version, a TypeError will be raised. Before calling .transform, select only columns which should be valid for the function.\n",
      "  data['fault'] = data.groupby('Component ID').transform(lambda x: ','.join(x))['Component Fault']\n"
     ]
    }
   ],
   "source": [
    "data = pd.read_csv(\"Failures Modes in MCVT v6 - Failure Modes of MCVT.csv\")\n",
    "\n",
    "data['shape'] = data.groupby('Component ID').transform('count')['System']\n",
    "\n",
    "data['Component Fault'] = data['Component Fault'].astype(str)\n",
    "\n",
    "data['fault'] = data.groupby('Component ID').transform(lambda x: ','.join(x))['Component Fault']"
   ]
  },
  {
   "cell_type": "code",
   "execution_count": 5,
   "id": "500fb4e2",
   "metadata": {},
   "outputs": [],
   "source": [
    "trans = {\n",
    "    'ECLSS': 4,\n",
    "    'Structure': 2,\n",
    "    'SPL' : 8,\n",
    "    'Disturbance' : 9,\n",
    "    'Interior Environment' : 6,\n",
    "    'Power': 3,\n",
    "}"
   ]
  },
  {
   "cell_type": "code",
   "execution_count": 6,
   "id": "ea9efb6b",
   "metadata": {},
   "outputs": [],
   "source": [
    "def _sensor_id(x):\n",
    "    return (x // 1000) * 100 + x % 100"
   ]
  },
  {
   "cell_type": "code",
   "execution_count": 7,
   "id": "7519ce28",
   "metadata": {},
   "outputs": [],
   "source": [
    "result = {}\n",
    "count = 0\n",
    "\n",
    "for _, row in data.iterrows():\n",
    "    count += 1\n",
    "    dataid = row['Component ID']\n",
    "    name = row['System/Sub-system/Component']\n",
    "    dtype = 4 if \"Sensor\" in row['fault'] else 3\n",
    "    subtype = trans[row['System']]\n",
    "    subtype2 = 255\n",
    "    rate = 1\n",
    "    size = row['shape']\n",
    "    unit = 'n/a'\n",
    "    notes = row['fault']\n",
    "    result.update(generate_info(dataid, name, dtype, subtype, subtype2, rate, size, unit, notes))\n",
    "\n",
    "\n",
    "    if row['Activity Type'] == 3:\n",
    "        dataid = _sensor_id(row['Component ID'])\n",
    "        name = row['System/Sub-system/Component'] + \"_Measure\"\n",
    "        dtype = 1 \n",
    "        subtype = trans[row['System']]\n",
    "        subtype2 = 255\n",
    "        rate = 1\n",
    "        size = 1\n",
    "        unit = 'n/a'\n",
    "        notes = row['Component']b\n",
    "        result.update(generate_info(dataid, name, dtype, subtype, subtype2, rate, size, unit, notes))"
   ]
  },
  {
   "cell_type": "code",
   "execution_count": 23,
   "id": "5204a443",
   "metadata": {},
   "outputs": [
    {
     "data": {
      "text/plain": [
       "array(['ECLSS', 'Structure', 'SPL', 'Disturbance', 'Interior Environment',\n",
       "       'Power'], dtype=object)"
      ]
     },
     "execution_count": 23,
     "metadata": {},
     "output_type": "execute_result"
    }
   ],
   "source": [
    "data['System'].unique()"
   ]
  },
  {
   "cell_type": "code",
   "execution_count": 63,
   "id": "25317f20",
   "metadata": {},
   "outputs": [],
   "source": [
    "json_string = json.dumps(result)\n",
    "with open('db_info_v6.json', 'w') as outfile:\n",
    "    outfile.write(json_string)"
   ]
  }
 ],
 "metadata": {
  "kernelspec": {
   "display_name": "Python 3 (ipykernel)",
   "language": "python",
   "name": "python3"
  },
  "language_info": {
   "codemirror_mode": {
    "name": "ipython",
    "version": 3
   },
   "file_extension": ".py",
   "mimetype": "text/x-python",
   "name": "python",
   "nbconvert_exporter": "python",
   "pygments_lexer": "ipython3",
   "version": "3.9.7"
  }
 },
 "nbformat": 4,
 "nbformat_minor": 5
}
