{
 "cells": [
  {
   "cell_type": "code",
   "execution_count": 65,
   "id": "aaa3f31b",
   "metadata": {},
   "outputs": [],
   "source": [
    "import pandas as pd\n",
    "import numpy as np\n",
    "import json"
   ]
  },
  {
   "cell_type": "code",
   "execution_count": 47,
   "id": "95bf8d83",
   "metadata": {},
   "outputs": [],
   "source": [
    "\n",
    "def generate_info(dataid, name, type, subtype, subtype2, rate, size, uint,\n",
    "                  notes):\n",
    "    data = {\n",
    "        name: {\n",
    "            \"data_id\": dataid,\n",
    "            \"data_name\": name,\n",
    "            \"data_type\": type,\n",
    "            \"data_subtype1\": subtype,\n",
    "            \"data_subtype2\": subtype2,\n",
    "            \"data_rate\": rate,\n",
    "            \"data_size\": size,\n",
    "            \"data_unit\": uint,\n",
    "            \"data_notes\": notes\n",
    "        }\n",
    "    }\n",
    "    return data\n"
   ]
  },
  {
   "cell_type": "code",
   "execution_count": 34,
   "id": "58ef23a6",
   "metadata": {},
   "outputs": [],
   "source": [
    "data = pd.read_csv(\"Failures Modes in MCVT v6 - Failure Modes of MCVT.csv\")"
   ]
  },
  {
   "cell_type": "code",
   "execution_count": 36,
   "id": "52632e98",
   "metadata": {},
   "outputs": [],
   "source": [
    "data['shape'] = data.groupby('Component ID').transform('count')['System']"
   ]
  },
  {
   "cell_type": "code",
   "execution_count": 37,
   "id": "d263a637",
   "metadata": {},
   "outputs": [],
   "source": [
    "data['Component Fault'] = data['Component Fault'].astype(str)"
   ]
  },
  {
   "cell_type": "code",
   "execution_count": 39,
   "id": "bdc6a1db",
   "metadata": {},
   "outputs": [
    {
     "name": "stderr",
     "output_type": "stream",
     "text": [
      "/var/folders/jg/vffvcnyd6_bfssm4fcwph6b00000gn/T/ipykernel_22369/3851792186.py:1: FutureWarning: Dropping invalid columns in DataFrameGroupBy.transform is deprecated. In a future version, a TypeError will be raised. Before calling .transform, select only columns which should be valid for the function.\n",
      "  data['fault'] = data.groupby('Component ID').transform(lambda x: ','.join(x))['Component Fault']\n",
      "/var/folders/jg/vffvcnyd6_bfssm4fcwph6b00000gn/T/ipykernel_22369/3851792186.py:1: FutureWarning: Dropping invalid columns in DataFrameGroupBy.transform is deprecated. In a future version, a TypeError will be raised. Before calling .transform, select only columns which should be valid for the function.\n",
      "  data['fault'] = data.groupby('Component ID').transform(lambda x: ','.join(x))['Component Fault']\n",
      "/var/folders/jg/vffvcnyd6_bfssm4fcwph6b00000gn/T/ipykernel_22369/3851792186.py:1: FutureWarning: Dropping invalid columns in DataFrameGroupBy.transform is deprecated. In a future version, a TypeError will be raised. Before calling .transform, select only columns which should be valid for the function.\n",
      "  data['fault'] = data.groupby('Component ID').transform(lambda x: ','.join(x))['Component Fault']\n",
      "/var/folders/jg/vffvcnyd6_bfssm4fcwph6b00000gn/T/ipykernel_22369/3851792186.py:1: FutureWarning: Dropping invalid columns in DataFrameGroupBy.transform is deprecated. In a future version, a TypeError will be raised. Before calling .transform, select only columns which should be valid for the function.\n",
      "  data['fault'] = data.groupby('Component ID').transform(lambda x: ','.join(x))['Component Fault']\n",
      "/var/folders/jg/vffvcnyd6_bfssm4fcwph6b00000gn/T/ipykernel_22369/3851792186.py:1: FutureWarning: Dropping invalid columns in DataFrameGroupBy.transform is deprecated. In a future version, a TypeError will be raised. Before calling .transform, select only columns which should be valid for the function.\n",
      "  data['fault'] = data.groupby('Component ID').transform(lambda x: ','.join(x))['Component Fault']\n"
     ]
    }
   ],
   "source": [
    "data['fault'] = data.groupby('Component ID').transform(lambda x: ','.join(x))['Component Fault']"
   ]
  },
  {
   "cell_type": "code",
   "execution_count": 41,
   "id": "af1fb26e",
   "metadata": {},
   "outputs": [
    {
     "data": {
      "text/plain": [
       "array(['ECLSS', 'Structure', 'SPL', 'Disturbance', 'Interior Environment',\n",
       "       'Power'], dtype=object)"
      ]
     },
     "execution_count": 41,
     "metadata": {},
     "output_type": "execute_result"
    }
   ],
   "source": [
    "data['System'].unique()"
   ]
  },
  {
   "cell_type": "code",
   "execution_count": 43,
   "id": "500fb4e2",
   "metadata": {},
   "outputs": [],
   "source": [
    "trans = {\n",
    "    'ECLSS': 4,\n",
    "    'Structure': 2,\n",
    "    'SPL' : 8,\n",
    "    'Disturbance' : 9,\n",
    "    'Interior Environment' : 6,\n",
    "    'Power': 3,\n",
    "}"
   ]
  },
  {
   "cell_type": "code",
   "execution_count": 45,
   "id": "d8679370",
   "metadata": {},
   "outputs": [
    {
     "ename": "TypeError",
     "evalue": "tuple indices must be integers or slices, not str",
     "output_type": "error",
     "traceback": [
      "\u001b[0;31m---------------------------------------------------------------------------\u001b[0m",
      "\u001b[0;31mTypeError\u001b[0m                                 Traceback (most recent call last)",
      "Input \u001b[0;32mIn [45]\u001b[0m, in \u001b[0;36m<cell line: 1>\u001b[0;34m()\u001b[0m\n\u001b[0;32m----> 1\u001b[0m \u001b[43mrow\u001b[49m\u001b[43m[\u001b[49m\u001b[38;5;124;43m'\u001b[39;49m\u001b[38;5;124;43mActivity Type\u001b[39;49m\u001b[38;5;124;43m'\u001b[39;49m\u001b[43m]\u001b[49m\n",
      "\u001b[0;31mTypeError\u001b[0m: tuple indices must be integers or slices, not str"
     ]
    }
   ],
   "source": [
    "row['Activity Type']"
   ]
  },
  {
   "cell_type": "code",
   "execution_count": 62,
   "id": "7519ce28",
   "metadata": {},
   "outputs": [],
   "source": [
    "result = {}\n",
    "\n",
    "for _, row in data.iterrows():\n",
    "    if row['Activity Type'] == 3:\n",
    "        dataid = row['Component ID']\n",
    "        name = row['System/Sub-system/Component']\n",
    "        dtype = 2\n",
    "        subtype = trans[row['System']]\n",
    "        subtype2 = 255\n",
    "        rate = 1\n",
    "        size = row['shape']\n",
    "        unit = 'n/a'\n",
    "        notes = row['fault']\n",
    "        result.update(generate_info(dataid, name, dtype, subtype, subtype2, rate, size, unit, notes))\n",
    "    if row['Activity Type'] == 1:\n",
    "        dataid = row['Unnamed: 3'] + 128\n",
    "        name = row['System/Sub-system/Component'] + '/' + row['Component Fault']\n",
    "        dtype = 1\n",
    "        subtype = trans[row['System']]\n",
    "        subtype2 = 255\n",
    "        rate = 1\n",
    "        size = int(row['Signal Size'].split('x')[0]) if isinstance(row['Signal Size'], str) else row['Signal Size']\n",
    "        unit = 'n/a'\n",
    "        notes = row['fault']\n",
    "        result.update(generate_info(dataid, name, dtype, subtype, subtype2, rate, size, unit, notes))"
   ]
  },
  {
   "cell_type": "code",
   "execution_count": 66,
   "id": "25317f20",
   "metadata": {},
   "outputs": [],
   "source": [
    "json_string = json.dumps(result)\n",
    "with open('db_info_v6.json', 'w') as outfile:\n",
    "    outfile.write(json_string)"
   ]
  },
  {
   "cell_type": "code",
   "execution_count": null,
   "id": "3dccf678",
   "metadata": {},
   "outputs": [],
   "source": []
  }
 ],
 "metadata": {
  "kernelspec": {
   "display_name": "Python 3 (ipykernel)",
   "language": "python",
   "name": "python3"
  },
  "language_info": {
   "codemirror_mode": {
    "name": "ipython",
    "version": 3
   },
   "file_extension": ".py",
   "mimetype": "text/x-python",
   "name": "python",
   "nbconvert_exporter": "python",
   "pygments_lexer": "ipython3",
   "version": "3.9.7"
  }
 },
 "nbformat": 4,
 "nbformat_minor": 5
}
