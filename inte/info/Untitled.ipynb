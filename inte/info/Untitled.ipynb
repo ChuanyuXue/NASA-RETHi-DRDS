{
 "cells": [
  {
   "cell_type": "code",
   "execution_count": 49,
   "id": "aaa3f31b",
   "metadata": {},
   "outputs": [],
   "source": [
    "import pandas as pd\n",
    "import numpy as np\n",
    "import json"
   ]
  },
  {
   "cell_type": "code",
   "execution_count": 50,
   "id": "95bf8d83",
   "metadata": {},
   "outputs": [],
   "source": [
    "def generate_info(dataid, name, type, subtype, subtype2, rate, size, uint,\n",
    "                  notes):\n",
    "    data = {\n",
    "        name: {\n",
    "            \"data_id\": dataid,\n",
    "            \"data_name\": name,\n",
    "            \"data_type\": type,\n",
    "            \"data_subtype1\": subtype,\n",
    "            \"data_subtype2\": subtype2,\n",
    "            \"data_rate\": rate,\n",
    "            \"data_size\": size,\n",
    "            \"data_unit\": uint,\n",
    "            \"data_notes\": notes\n",
    "        }\n",
    "    }\n",
    "    return data\n"
   ]
  },
  {
   "cell_type": "code",
   "execution_count": 51,
   "id": "f4d5a04b",
   "metadata": {},
   "outputs": [],
   "source": [
    "data = pd.read_csv(\"Failures Modes in MCVT v6 - Communication-Data-Service-3.csv\")"
   ]
  },
  {
   "cell_type": "code",
   "execution_count": 52,
   "id": "58ef23a6",
   "metadata": {},
   "outputs": [],
   "source": [
    "# data = pd.read_csv(\"Failures Modes in MCVT v6 - Failure Modes of MCVT.csv\")\n",
    "\n",
    "# data['shape'] = data.groupby('Component ID').transform('count')['System']\n",
    "\n",
    "# data['Component Fault'] = data['Component Fault'].astype(str)\n",
    "\n",
    "# data['fault'] = data.groupby('Component ID').transform(lambda x: ','.join(x))['Component Fault']"
   ]
  },
  {
   "cell_type": "code",
   "execution_count": 53,
   "id": "d72dc094",
   "metadata": {},
   "outputs": [],
   "source": [
    "# const (\n",
    "# \tSRC_GCC   uint8 = 0\n",
    "# \tSRC_HMS   uint8 = 1\n",
    "# \tSRC_STR   uint8 = 2\n",
    "# \tSRC_SPL   uint8 = 11\n",
    "# \tSRC_ECLSS uint8 = 5\n",
    "# \tSRC_PWR   uint8 = 3\n",
    "# \tSRC_AGT   uint8 = 6\n",
    "# \tSRC_ING   uint8 = 8\n",
    "# \tSRC_DTB   uint8 = 9\n",
    "# \tSRC_EXT   uint8 = 7\n",
    "# )"
   ]
  },
  {
   "cell_type": "code",
   "execution_count": 54,
   "id": "500fb4e2",
   "metadata": {},
   "outputs": [],
   "source": [
    "trans = {\n",
    "    'ECLSS': 5,\n",
    "    'Interior Environment': 8,\n",
    "    'Power': 3,\n",
    "    'SPL': 11,\n",
    "    'Structure': 2\n",
    "}"
   ]
  },
  {
   "cell_type": "code",
   "execution_count": 55,
   "id": "ee287872",
   "metadata": {},
   "outputs": [],
   "source": [
    "type_trans = {\n",
    "    'MEAS': 1,\n",
    "    'FDDMEAS':2,\n",
    "}"
   ]
  },
  {
   "cell_type": "code",
   "execution_count": 56,
   "id": "bc7d05e4",
   "metadata": {},
   "outputs": [],
   "source": [
    "rate_trans = {\n",
    "    3: 1000,\n",
    "    2: 4000,\n",
    "    8: 200,\n",
    "    3: 1000,\n",
    "    5:200,\n",
    "    11:1000\n",
    "}"
   ]
  },
  {
   "cell_type": "code",
   "execution_count": 57,
   "id": "47a2bf43",
   "metadata": {},
   "outputs": [
    {
     "name": "stdout",
     "output_type": "stream",
     "text": [
      "Status                                                                             NaN\n",
      "ComponentID                                                                       5009\n",
      "System                                                                           ECLSS\n",
      "System/Sub-system/Component          ECLSS/Sensor/Radiator_Panel_SurfTemperature_Se...\n",
      "Unnamed: 4                                                                         NaN\n",
      "Type                                                                              MEAS\n",
      "Failure Mode                                                                       NaN\n",
      "Data ID                                                                               \n",
      "Signal Size                                                                        1.0\n",
      "Data Generation Frequency                                                          NaN\n",
      "Data Communication Frequency (Hz)                                                  NaN\n",
      "Priority (0-7)                                                                     NaN\n",
      "Worst Case Latency (Sec.)                                                          NaN\n",
      "Worst Case Data Loss Rate                                                          NaN\n",
      "Name: 31, dtype: object\n",
      "Status                                                                 NaN\n",
      "ComponentID                                                           5014\n",
      "System                                                               ECLSS\n",
      "System/Sub-system/Component          ECLSS/Sensor/HTF_Temperature_Sensor_5\n",
      "Unnamed: 4                                                             NaN\n",
      "Type                                                                  MEAS\n",
      "Failure Mode                                                           NaN\n",
      "Data ID                                                                   \n",
      "Signal Size                                                            1.0\n",
      "Data Generation Frequency                                              NaN\n",
      "Data Communication Frequency (Hz)                                      NaN\n",
      "Priority (0-7)                                                         NaN\n",
      "Worst Case Latency (Sec.)                                              NaN\n",
      "Worst Case Data Loss Rate                                              NaN\n",
      "Name: 51, dtype: object\n",
      "Status                                                   NaN\n",
      "ComponentID                                             5016\n",
      "System                                                 ECLSS\n",
      "System/Sub-system/Component          ECLSS/Sensor/Flow_meter\n",
      "Unnamed: 4                                               NaN\n",
      "Type                                                    MEAS\n",
      "Failure Mode                                             NaN\n",
      "Data ID                                                     \n",
      "Signal Size                                              1.0\n",
      "Data Generation Frequency                                NaN\n",
      "Data Communication Frequency (Hz)                        NaN\n",
      "Priority (0-7)                                           NaN\n",
      "Worst Case Latency (Sec.)                                NaN\n",
      "Worst Case Data Loss Rate                                NaN\n",
      "Name: 59, dtype: object\n",
      "Status                                                      NaN\n",
      "ComponentID                                                    \n",
      "System                                                      SPL\n",
      "System/Sub-system/Component          Structure_Protective_Layer\n",
      "Unnamed: 4                                                  NaN\n",
      "Type                                                    FDDMEAS\n",
      "Failure Mode                                           11001001\n",
      "Data ID                                                   11001\n",
      "Signal Size                                                 NaN\n",
      "Data Generation Frequency                                  2000\n",
      "Data Communication Frequency (Hz)                           NaN\n",
      "Priority (0-7)                                              NaN\n",
      "Worst Case Latency (Sec.)                                   NaN\n",
      "Worst Case Data Loss Rate                                   NaN\n",
      "Name: 91, dtype: object\n"
     ]
    }
   ],
   "source": [
    "result = {}\n",
    "count = 0\n",
    "for _, row in data.iterrows():\n",
    "    count += 1\n",
    "    try:\n",
    "        dataid = int(row['Data ID'])\n",
    "        name = row['System/Sub-system/Component'] + '-' + str(dataid)\n",
    "\n",
    "        dtype = int(type_trans[row['Type']])\n",
    "        subtype = int(trans[row['System']])\n",
    "        subtype2 = int(row['ComponentID']) if not pd.isna(row['ComponentID']) else int(0)\n",
    "        rate = rate_trans[subtype]\n",
    "        size = int(row['Signal Size']) if not pd.isna(row['Signal Size']) else int(1)\n",
    "        unit = 'n/a'\n",
    "        notes = row['Failure Mode'] if isinstance(row['Failure Mode'], str) else 'N/A'\n",
    "        result.update(generate_info(dataid, name, dtype, subtype, subtype2, rate, size, unit, notes))\n",
    "    except:\n",
    "        print(row)"
   ]
  },
  {
   "cell_type": "code",
   "execution_count": 47,
   "id": "7519ce28",
   "metadata": {},
   "outputs": [],
   "source": [
    "# result = {}\n",
    "# count = 0\n",
    "\n",
    "# for _, row in data.iterrows():\n",
    "#     count += 1\n",
    "#     dataid = row['Component ID']\n",
    "#     name = row['System/Sub-system/Component']\n",
    "#     dtype = 4 if \"Sensor\" in row['fault'] else 3\n",
    "#     subtype = trans[row['System']]\n",
    "#     subtype2 = 255\n",
    "#     rate = 1\n",
    "#     size = row['shape']\n",
    "#     unit = 'n/a'\n",
    "#     notes = row['fault']\n",
    "#     result.update(generate_info(dataid, name, dtype, subtype, subtype2, rate, size, unit, notes))\n",
    "\n",
    "\n",
    "#     if row['Activity Type'] == 3:\n",
    "#         dataid = _sensor_id(row['Component ID'])\n",
    "#         name = row['System/Sub-system/Component'] + \"_Measure\"\n",
    "#         dtype = 1 \n",
    "#         subtype = trans[row['System']]\n",
    "#         subtype2 = 255\n",
    "#         rate = 1\n",
    "#         size = 1\n",
    "#         unit = 'n/a'\n",
    "#         notes = row['Component']b\n",
    "#         result.update(generate_info(dataid, name, dtype, subtype, subtype2, rate, size, unit, notes))"
   ]
  },
  {
   "cell_type": "code",
   "execution_count": 48,
   "id": "25317f20",
   "metadata": {},
   "outputs": [],
   "source": [
    "json_string = json.dumps(result)\n",
    "with open('db_info_v6.json', 'w') as outfile:\n",
    "    outfile.write(json_string)"
   ]
  },
  {
   "cell_type": "code",
   "execution_count": null,
   "id": "4c952811",
   "metadata": {},
   "outputs": [],
   "source": []
  },
  {
   "cell_type": "code",
   "execution_count": null,
   "id": "da9ed10b",
   "metadata": {},
   "outputs": [],
   "source": []
  }
 ],
 "metadata": {
  "kernelspec": {
   "display_name": "Python 3 (ipykernel)",
   "language": "python",
   "name": "python3"
  },
  "language_info": {
   "codemirror_mode": {
    "name": "ipython",
    "version": 3
   },
   "file_extension": ".py",
   "mimetype": "text/x-python",
   "name": "python",
   "nbconvert_exporter": "python",
   "pygments_lexer": "ipython3",
   "version": "3.9.7"
  }
 },
 "nbformat": 4,
 "nbformat_minor": 5
}
